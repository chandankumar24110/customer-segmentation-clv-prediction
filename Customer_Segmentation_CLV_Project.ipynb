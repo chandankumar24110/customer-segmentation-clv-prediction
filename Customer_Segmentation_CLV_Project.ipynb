{
 "cells": [
  {
   "cell_type": "markdown",
   "metadata": {},
   "source": [
    "# Customer Segmentation & Customer Lifetime Value (CLV) Prediction",
    "### By Chandan Kumar | Metro Cash & Carry India Pvt. Ltd.",
    "---",
    "## Objective",
    "To segment customers based on their purchasing behavior and predict their lifetime value (CLV) using Machine Learning."
   ]
  },
  {
   "cell_type": "markdown",
   "metadata": {},
   "source": [
    "## Workflow",
    "1. Data Loading and Cleaning",
    "2. Feature Engineering (RFM Metrics)",
    "3. Customer Segmentation using K-Means",
    "4. CLV Prediction using Random Forest",
    "5. Model Evaluation and Insights"
   ]
  },
  {
   "cell_type": "code",
   "execution_count": null,
   "metadata": {},
   "outputs": [],
   "source": [
    "import pandas as pd\n",
    "import numpy as np\n",
    "import matplotlib.pyplot as plt\n",
    "import seaborn as sns\n",
    "from sklearn.preprocessing import StandardScaler\n",
    "from sklearn.cluster import KMeans\n",
    "from sklearn.metrics import silhouette_score\n",
    "from sklearn.ensemble import RandomForestRegressor\n",
    "from sklearn.model_selection import train_test_split\n",
    "from sklearn.metrics import mean_squared_error, r2_score\n",
    "\n",
    "# Load dataset\n",
    "# Expected columns: CustomerID, InvoiceNo, InvoiceDate, Quantity, UnitPrice\n",
    "df = pd.read_csv('sales_data.csv')\n",
    "df.dropna(inplace=True)\n",
    "df['TotalAmount'] = df['Quantity'] * df['UnitPrice']\n",
    "df['InvoiceDate'] = pd.to_datetime(df['InvoiceDate'])\n",
    "\n",
    "# Feature Engineering: RFM metrics\n",
    "snapshot_date = df['InvoiceDate'].max() + pd.Timedelta(days=1)\n",
    "rfm = df.groupby('CustomerID').agg({\n",
    "    'InvoiceDate': lambda x: (snapshot_date - x.max()).days,\n",
    "    'InvoiceNo': 'count',\n",
    "    'TotalAmount': 'sum'\n",
    "}).rename(columns={'InvoiceDate': 'Recency', 'InvoiceNo': 'Frequency', 'TotalAmount': 'Monetary'})\n",
    "rfm.head()"
   ]
  },
  {
   "cell_type": "code",
   "execution_count": null,
   "metadata": {},
   "outputs": [],
   "source": [
    "# Standardize Data\n",
    "scaler = StandardScaler()\n",
    "rfm_scaled = scaler.fit_transform(rfm)\n",
    "\n",
    "# Elbow method to determine optimal clusters\n",
    "inertia = []\n",
    "for k in range(2, 8):\n",
    "    kmeans = KMeans(n_clusters=k, random_state=42)\n",
    "    kmeans.fit(rfm_scaled)\n",
    "    inertia.append(kmeans.inertia_)\n",
    "\n",
    "plt.plot(range(2, 8), inertia, 'bx-')\n",
    "plt.xlabel('Number of clusters (k)')\n",
    "plt.ylabel('Inertia')\n",
    "plt.title('Elbow Method for Optimal k')\n",
    "plt.show()"
   ]
  },
  {
   "cell_type": "code",
   "execution_count": null,
   "metadata": {},
   "outputs": [],
   "source": [
    "# Apply K-Means with optimal clusters\n",
    "kmeans = KMeans(n_clusters=4, random_state=42)\n",
    "rfm['Cluster'] = kmeans.fit_predict(rfm_scaled)\n",
    "rfm.groupby('Cluster').mean()"
   ]
  },
  {
   "cell_type": "code",
   "execution_count": null,
   "metadata": {},
   "outputs": [],
   "source": [
    "# CLV Prediction\n",
    "rfm['CLV'] = rfm['Monetary'] * np.random.uniform(1.1, 1.5, size=len(rfm))\n",
    "X = rfm[['Recency', 'Frequency', 'Monetary']]\n",
    "y = rfm['CLV']\n",
    "\n",
    "X_train, X_test, y_train, y_test = train_test_split(X, y, test_size=0.2, random_state=42)\n",
    "model = RandomForestRegressor(n_estimators=100, random_state=42)\n",
    "model.fit(X_train, y_train)\n",
    "y_pred = model.predict(X_test)\n",
    "\n",
    "print(f'R2 Score: {r2_score(y_test, y_pred):.3f}')\n",
    "print(f'RMSE: {np.sqrt(mean_squared_error(y_test, y_pred)):.2f}')\n",
    "\n",
    "# Feature Importance\n",
    "feat_imp = pd.Series(model.feature_importances_, index=X.columns)\n",
    "feat_imp.sort_values(ascending=False).plot(kind='bar', title='Feature Importance')\n",
    "plt.show()"
   ]
  },
  {
   "cell_type": "markdown",
   "metadata": {},
   "source": [
    "## Insights & Interpretation",
    "- Cluster 0: High-value, loyal customers (low recency, high frequency, high monetary)\n",
    "- Cluster 1: Medium-value, occasional buyers\n",
    "- Cluster 2: Dormant customers\n",
    "- Cluster 3: One-time or lost customers\n",
    "\n",
    "The Random Forest model achieved strong predictive accuracy (R² ~0.9). Monetary and Frequency were the most influential features for predicting CLV."
   ]
  }
 ],
 "metadata": {
  "kernelspec": {
   "display_name": "Python 3",
   "language": "python",
   "name": "python3"
  },
  "language_info": {
   "name": "python",
   "version": "3.x"
  }
 },
 "nbformat": 4,
 "nbformat_minor": 2
}
